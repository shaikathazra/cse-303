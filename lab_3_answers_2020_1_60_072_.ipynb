{
  "nbformat": 4,
  "nbformat_minor": 0,
  "metadata": {
    "colab": {
      "provenance": []
    },
    "kernelspec": {
      "name": "python3",
      "display_name": "Python 3"
    },
    "language_info": {
      "name": "python"
    }
  },
  "cells": [
    {
      "cell_type": "markdown",
      "source": [
        "Lab -3 (Task)\n",
        "1. Create a 1D NumPy array of integers from 10 to 20.\n",
        "2. Reshape a 1D array of integers from 1 to 16 into a 4x4 matrix.\n",
        "3.  Create a 2D array of shape (4, 5) with integers from 1 to 20 and access the element in the 3rd row and 4th column.\n",
        "4. Create a 2D array with shape (4, 6) and from the 2nd and 3rd rows, slice elements from index 2 to index 5.\n",
        "5. Convert a 1D array with 12 elements into a 3D array with shape (2, 3, 2). The outermost dimension will have 2 arrays that contain 3 arrays, each with 2 elements.\n",
        "6. Create a 1D array of 15 elements and reshape it into a 3x5 matrix. Then, extract the 2nd row as a 1D array.\n",
        "7. Create a 3D array with shape (2, 4, 3) and from the 1st array, slice elements from the 2nd and 3rd rows.\n",
        "8. Create a filter array that will return only even elements from the original array.\n",
        "9. quantities_sold = [15, 22, 8, 35, 12, 25]  and price_per_item = [2.99, 5.49, 9.99, 1.99, 3.49, 4.99]. Now, Convert quantities_sold and price_per_item to numpy arrays, calculate the total sales for each product as total_sales = quantities_sold * price_per_item, and print the total sales and average price per item.\n",
        "10. math_scores = [88, 92, 85, 78, 90, 84] , science_scores = [91, 85, 87, 90, 88, 86] , english_scores = [82, 89, 88, 84, 91, 87]. Now, Convert math_scores, science_scores, and english_scores to numpy arrays, calculate each student’s average score across the three subjects, and print the averages.\n",
        "11. Given the dictionary inventory = {\"apple\": 10, \"banana\": 5, \"orange\": 8, \"grape\": 3, \"mango\": 6}, write a program to update quantities with \"banana\": 3, \"apple\": 4, remove \"grape\", and check if \"mango\" exist or not.\n",
        "12. Given the dictionary grades = {\"Alice\": 85, \"Bob\": 67, \"Charlie\": 90, \"David\": 72, \"Eve\": 58}, write a program to print students scoring above 70, add \"Frank\": 76, remove \"Eve\", and check if \"George\" exist or not."
      ],
      "metadata": {
        "id": "SwIOIKU7AHfk"
      }
    },
    {
      "cell_type": "code",
      "execution_count": null,
      "metadata": {
        "id": "IpX6oohbAE1M"
      },
      "outputs": [],
      "source": [
        "#Import block\n",
        "#Run this block before running any code\n",
        "import numpy as np"
      ]
    },
    {
      "cell_type": "code",
      "source": [
        "#ans 1\n",
        "arr1 = np.arange(10,21)\n",
        "print(arr1)"
      ],
      "metadata": {
        "colab": {
          "base_uri": "https://localhost:8080/"
        },
        "id": "K13pUK6NAWNT",
        "outputId": "14491a34-c772-4a5e-a142-afa33fc4b27a"
      },
      "execution_count": null,
      "outputs": [
        {
          "output_type": "stream",
          "name": "stdout",
          "text": [
            "[10 11 12 13 14 15 16 17 18 19 20]\n"
          ]
        }
      ]
    },
    {
      "cell_type": "code",
      "source": [
        "#ans 2\n",
        "arr2 = np.arange(1,17).reshape(4,4)\n",
        "print(arr2)"
      ],
      "metadata": {
        "colab": {
          "base_uri": "https://localhost:8080/"
        },
        "id": "GwKYKaWsAd-t",
        "outputId": "22c83fdb-238a-49fc-b441-1d8a439975ee"
      },
      "execution_count": null,
      "outputs": [
        {
          "output_type": "stream",
          "name": "stdout",
          "text": [
            "[[ 1  2  3  4]\n",
            " [ 5  6  7  8]\n",
            " [ 9 10 11 12]\n",
            " [13 14 15 16]]\n"
          ]
        }
      ]
    },
    {
      "cell_type": "code",
      "source": [
        "#ans 3\n",
        "arr3 = np.arange(1,21).reshape(4,5)\n",
        "print(arr3[2,3])"
      ],
      "metadata": {
        "colab": {
          "base_uri": "https://localhost:8080/"
        },
        "id": "Zaolk5N6ApQz",
        "outputId": "e00ebc2e-3a28-4fba-85c4-f0031ea93b7b"
      },
      "execution_count": null,
      "outputs": [
        {
          "output_type": "stream",
          "name": "stdout",
          "text": [
            "14\n"
          ]
        }
      ]
    },
    {
      "cell_type": "code",
      "source": [
        "#ans 4\n",
        "arr4 = np.arange(1,25).reshape(4,6)\n",
        "print(arr4)\n",
        "print(arr4[1:3,2:6])"
      ],
      "metadata": {
        "colab": {
          "base_uri": "https://localhost:8080/"
        },
        "id": "XKq9d04OA0Kv",
        "outputId": "ba5dd6f6-5d33-4158-92a1-79714d88776b"
      },
      "execution_count": null,
      "outputs": [
        {
          "output_type": "stream",
          "name": "stdout",
          "text": [
            "[[ 1  2  3  4  5  6]\n",
            " [ 7  8  9 10 11 12]\n",
            " [13 14 15 16 17 18]\n",
            " [19 20 21 22 23 24]]\n",
            "[[ 9 10 11 12]\n",
            " [15 16 17 18]]\n"
          ]
        }
      ]
    },
    {
      "cell_type": "code",
      "source": [
        "#ans 5\n",
        "arr5 = np.arange(1,13).reshape(2,3,2)\n",
        "print(arr5)\n"
      ],
      "metadata": {
        "colab": {
          "base_uri": "https://localhost:8080/"
        },
        "id": "cWLkmqBpEv9I",
        "outputId": "64dc889c-257e-4c6d-aa0e-a1c81e436076"
      },
      "execution_count": null,
      "outputs": [
        {
          "output_type": "stream",
          "name": "stdout",
          "text": [
            "[[[ 1  2]\n",
            "  [ 3  4]\n",
            "  [ 5  6]]\n",
            "\n",
            " [[ 7  8]\n",
            "  [ 9 10]\n",
            "  [11 12]]]\n"
          ]
        }
      ]
    },
    {
      "cell_type": "code",
      "source": [
        "#ans 6\n",
        "arr5 = np.arange(1,16).reshape(3,5)\n",
        "print(arr5)\n",
        "print(arr5[1])"
      ],
      "metadata": {
        "colab": {
          "base_uri": "https://localhost:8080/"
        },
        "id": "Mua3f8xAGEAW",
        "outputId": "adeb37eb-5032-4680-81ec-7cc25241211a"
      },
      "execution_count": null,
      "outputs": [
        {
          "output_type": "stream",
          "name": "stdout",
          "text": [
            "[[ 1  2  3  4  5]\n",
            " [ 6  7  8  9 10]\n",
            " [11 12 13 14 15]]\n",
            "[ 6  7  8  9 10]\n"
          ]
        }
      ]
    },
    {
      "cell_type": "code",
      "source": [
        "#ans 7\n",
        "arr6 = np.arange(1,25).reshape(2,4,3)\n",
        "print(arr6)\n",
        "print(arr6[0,1:3])"
      ],
      "metadata": {
        "colab": {
          "base_uri": "https://localhost:8080/"
        },
        "id": "cJZodQEAGWeQ",
        "outputId": "c5925c53-b661-4aff-dc5a-8f988ae2cc76"
      },
      "execution_count": null,
      "outputs": [
        {
          "output_type": "stream",
          "name": "stdout",
          "text": [
            "[[[ 1  2  3]\n",
            "  [ 4  5  6]\n",
            "  [ 7  8  9]\n",
            "  [10 11 12]]\n",
            "\n",
            " [[13 14 15]\n",
            "  [16 17 18]\n",
            "  [19 20 21]\n",
            "  [22 23 24]]]\n",
            "[[4 5 6]\n",
            " [7 8 9]]\n"
          ]
        }
      ]
    },
    {
      "cell_type": "code",
      "source": [
        "#ans 8\n",
        "arr7 = np.arange(1,11)\n",
        "print(arr7)\n",
        "filter_arr = arr7 % 2 == 0\n",
        "newarr = arr7[filter_arr]\n",
        "print(newarr)"
      ],
      "metadata": {
        "id": "22xTHt-gGe7U",
        "colab": {
          "base_uri": "https://localhost:8080/"
        },
        "outputId": "2378c128-6460-4c06-ba02-06b027d8f9a1"
      },
      "execution_count": null,
      "outputs": [
        {
          "output_type": "stream",
          "name": "stdout",
          "text": [
            "[ 1  2  3  4  5  6  7  8  9 10]\n",
            "[ 2  4  6  8 10]\n"
          ]
        }
      ]
    },
    {
      "cell_type": "code",
      "source": [
        "#ans 9\n",
        "arr8 = np.array([2.99, 5.49, 9.99, 1.99, 3.49, 4.99])\n",
        "arr9 = np.array([15, 22, 8, 35, 12, 25])\n",
        "total_sales = arr9 * arr8\n",
        "print(total_sales)\n",
        "print(np.average(total_sales))"
      ],
      "metadata": {
        "colab": {
          "base_uri": "https://localhost:8080/"
        },
        "id": "8r1-T7Jov5jf",
        "outputId": "4928f562-b63b-4708-84c4-16dec8505219"
      },
      "execution_count": null,
      "outputs": [
        {
          "output_type": "stream",
          "name": "stdout",
          "text": [
            "[ 44.85 120.78  79.92  69.65  41.88 124.75]\n",
            "80.305\n"
          ]
        }
      ]
    },
    {
      "cell_type": "code",
      "source": [
        "#ans 10\n",
        "arr10 = np.array([88, 92, 85, 78, 90, 84])\n",
        "arr11 = np.array([91, 85, 87, 90, 88, 86])\n",
        "arr12 = np.array([82, 89, 88, 84, 91, 87])\n",
        "print(np.average(arr10))\n",
        "print(np.average(arr11))"
      ],
      "metadata": {
        "colab": {
          "base_uri": "https://localhost:8080/"
        },
        "id": "cwT3lejEwCXX",
        "outputId": "edab281d-a26b-4b43-a7e1-b2a431d95ab4"
      },
      "execution_count": null,
      "outputs": [
        {
          "output_type": "stream",
          "name": "stdout",
          "text": [
            "86.16666666666667\n",
            "87.83333333333333\n"
          ]
        }
      ]
    },
    {
      "cell_type": "code",
      "source": [
        "#ans 11\n",
        "stock = {\"apple\": 10, \"banana\": 5, \"orange\": 8, \"grape\": 3, \"mango\": 6}\n",
        "stock[\"banana\"] = 3\n",
        "stock[\"apple\"] = 4\n",
        "del stock[\"grape\"]\n",
        "print(stock)\n",
        "print(\"mango\" in stock)"
      ],
      "metadata": {
        "colab": {
          "base_uri": "https://localhost:8080/"
        },
        "id": "4NbFVPB6wXlH",
        "outputId": "a7517c2e-6cca-4ca1-e1d9-9f5f5ab5d5de"
      },
      "execution_count": null,
      "outputs": [
        {
          "output_type": "stream",
          "name": "stdout",
          "text": [
            "{'apple': 4, 'banana': 3, 'orange': 8, 'mango': 6}\n",
            "True\n"
          ]
        }
      ]
    },
    {
      "cell_type": "code",
      "source": [
        "#ans 12\n",
        "grades = {\"Alice\": 85, \"Bob\": 67, \"Charlie\": 90, \"David\": 72, \"Eve\": 58}\n",
        "print(grades)\n",
        "for key, value in grades.items():\n",
        "    if value > 70:\n",
        "        print(key)\n",
        "grades[\"Frank\"] = 76\n",
        "del grades[\"Eve\"]\n",
        "print(grades)\n",
        "print(\"George\" in grades)"
      ],
      "metadata": {
        "id": "ttAdFf4ZyICX",
        "colab": {
          "base_uri": "https://localhost:8080/"
        },
        "outputId": "fc784706-f9a9-42b1-dbfa-9e5233e8d98c"
      },
      "execution_count": 14,
      "outputs": [
        {
          "output_type": "stream",
          "name": "stdout",
          "text": [
            "{'Alice': 85, 'Bob': 67, 'Charlie': 90, 'David': 72, 'Eve': 58}\n",
            "Alice\n",
            "Charlie\n",
            "David\n",
            "{'Alice': 85, 'Bob': 67, 'Charlie': 90, 'David': 72, 'Frank': 76}\n",
            "False\n"
          ]
        }
      ]
    }
  ]
}